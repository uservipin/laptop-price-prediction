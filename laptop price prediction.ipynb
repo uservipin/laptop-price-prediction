{
 "cells": [
  {
   "cell_type": "code",
   "execution_count": 2,
   "metadata": {},
   "outputs": [],
   "source": [
    "# import library\n",
    "import pandas as pd\n",
    "import numpy as np\n",
    "import matplotlib.pyplot as plt\n",
    "import seaborn as sns\n",
    "from sklearn.model_selection import train_test_split\n",
    "from sklearn.linear_model import SGDRegressor\n",
    "from sklearn.metrics import mean_squared_error\n",
    "from sklearn.model_selection import GridSearchCV\n",
    "from sklearn.neighbors import KNeighborsRegressor\n",
    "\n",
    "import os "
   ]
  },
  {
   "cell_type": "code",
   "execution_count": 3,
   "metadata": {},
   "outputs": [],
   "source": [
    "laptopData = pd.read_csv(\"laptop_data.csv\")\n",
    "laptopData = laptopData.set_index('Laptop ID')"
   ]
  },
  {
   "cell_type": "code",
   "execution_count": 4,
   "metadata": {},
   "outputs": [
    {
     "data": {
      "text/html": [
       "<div>\n",
       "<style scoped>\n",
       "    .dataframe tbody tr th:only-of-type {\n",
       "        vertical-align: middle;\n",
       "    }\n",
       "\n",
       "    .dataframe tbody tr th {\n",
       "        vertical-align: top;\n",
       "    }\n",
       "\n",
       "    .dataframe thead th {\n",
       "        text-align: right;\n",
       "    }\n",
       "</style>\n",
       "<table border=\"1\" class=\"dataframe\">\n",
       "  <thead>\n",
       "    <tr style=\"text-align: right;\">\n",
       "      <th></th>\n",
       "      <th>Company</th>\n",
       "      <th>TypeName</th>\n",
       "      <th>Inches</th>\n",
       "      <th>ScreenResolution</th>\n",
       "      <th>Cpu</th>\n",
       "      <th>Ram</th>\n",
       "      <th>Memory</th>\n",
       "      <th>Gpu</th>\n",
       "      <th>OpSys</th>\n",
       "      <th>Weight</th>\n",
       "      <th>Price</th>\n",
       "    </tr>\n",
       "    <tr>\n",
       "      <th>Laptop ID</th>\n",
       "      <th></th>\n",
       "      <th></th>\n",
       "      <th></th>\n",
       "      <th></th>\n",
       "      <th></th>\n",
       "      <th></th>\n",
       "      <th></th>\n",
       "      <th></th>\n",
       "      <th></th>\n",
       "      <th></th>\n",
       "      <th></th>\n",
       "    </tr>\n",
       "  </thead>\n",
       "  <tbody>\n",
       "    <tr>\n",
       "      <th>0</th>\n",
       "      <td>Apple</td>\n",
       "      <td>Ultrabook</td>\n",
       "      <td>13.3</td>\n",
       "      <td>IPS Panel Retina Display 2560x1600</td>\n",
       "      <td>Intel Core i5 2.3GHz</td>\n",
       "      <td>8GB</td>\n",
       "      <td>128GB SSD</td>\n",
       "      <td>Intel Iris Plus Graphics 640</td>\n",
       "      <td>macOS</td>\n",
       "      <td>1.37kg</td>\n",
       "      <td>71378.6832</td>\n",
       "    </tr>\n",
       "    <tr>\n",
       "      <th>1</th>\n",
       "      <td>Apple</td>\n",
       "      <td>Ultrabook</td>\n",
       "      <td>13.3</td>\n",
       "      <td>1440x900</td>\n",
       "      <td>Intel Core i5 1.8GHz</td>\n",
       "      <td>8GB</td>\n",
       "      <td>128GB Flash Storage</td>\n",
       "      <td>Intel HD Graphics 6000</td>\n",
       "      <td>macOS</td>\n",
       "      <td>1.34kg</td>\n",
       "      <td>47895.5232</td>\n",
       "    </tr>\n",
       "    <tr>\n",
       "      <th>2</th>\n",
       "      <td>HP</td>\n",
       "      <td>Notebook</td>\n",
       "      <td>15.6</td>\n",
       "      <td>Full HD 1920x1080</td>\n",
       "      <td>Intel Core i5 7200U 2.5GHz</td>\n",
       "      <td>8GB</td>\n",
       "      <td>256GB SSD</td>\n",
       "      <td>Intel HD Graphics 620</td>\n",
       "      <td>No OS</td>\n",
       "      <td>1.86kg</td>\n",
       "      <td>30636.0000</td>\n",
       "    </tr>\n",
       "    <tr>\n",
       "      <th>3</th>\n",
       "      <td>Apple</td>\n",
       "      <td>Ultrabook</td>\n",
       "      <td>15.4</td>\n",
       "      <td>IPS Panel Retina Display 2880x1800</td>\n",
       "      <td>Intel Core i7 2.7GHz</td>\n",
       "      <td>16GB</td>\n",
       "      <td>512GB SSD</td>\n",
       "      <td>AMD Radeon Pro 455</td>\n",
       "      <td>macOS</td>\n",
       "      <td>1.83kg</td>\n",
       "      <td>135195.3360</td>\n",
       "    </tr>\n",
       "    <tr>\n",
       "      <th>4</th>\n",
       "      <td>Apple</td>\n",
       "      <td>Ultrabook</td>\n",
       "      <td>13.3</td>\n",
       "      <td>IPS Panel Retina Display 2560x1600</td>\n",
       "      <td>Intel Core i5 3.1GHz</td>\n",
       "      <td>8GB</td>\n",
       "      <td>256GB SSD</td>\n",
       "      <td>Intel Iris Plus Graphics 650</td>\n",
       "      <td>macOS</td>\n",
       "      <td>1.37kg</td>\n",
       "      <td>96095.8080</td>\n",
       "    </tr>\n",
       "    <tr>\n",
       "      <th>...</th>\n",
       "      <td>...</td>\n",
       "      <td>...</td>\n",
       "      <td>...</td>\n",
       "      <td>...</td>\n",
       "      <td>...</td>\n",
       "      <td>...</td>\n",
       "      <td>...</td>\n",
       "      <td>...</td>\n",
       "      <td>...</td>\n",
       "      <td>...</td>\n",
       "      <td>...</td>\n",
       "    </tr>\n",
       "    <tr>\n",
       "      <th>1298</th>\n",
       "      <td>Lenovo</td>\n",
       "      <td>2 in 1 Convertible</td>\n",
       "      <td>14.0</td>\n",
       "      <td>IPS Panel Full HD / Touchscreen 1920x1080</td>\n",
       "      <td>Intel Core i7 6500U 2.5GHz</td>\n",
       "      <td>4GB</td>\n",
       "      <td>128GB SSD</td>\n",
       "      <td>Intel HD Graphics 520</td>\n",
       "      <td>Windows 10</td>\n",
       "      <td>1.8kg</td>\n",
       "      <td>33992.6400</td>\n",
       "    </tr>\n",
       "    <tr>\n",
       "      <th>1299</th>\n",
       "      <td>Lenovo</td>\n",
       "      <td>2 in 1 Convertible</td>\n",
       "      <td>13.3</td>\n",
       "      <td>IPS Panel Quad HD+ / Touchscreen 3200x1800</td>\n",
       "      <td>Intel Core i7 6500U 2.5GHz</td>\n",
       "      <td>16GB</td>\n",
       "      <td>512GB SSD</td>\n",
       "      <td>Intel HD Graphics 520</td>\n",
       "      <td>Windows 10</td>\n",
       "      <td>1.3kg</td>\n",
       "      <td>79866.7200</td>\n",
       "    </tr>\n",
       "    <tr>\n",
       "      <th>1300</th>\n",
       "      <td>Lenovo</td>\n",
       "      <td>Notebook</td>\n",
       "      <td>14.0</td>\n",
       "      <td>1366x768</td>\n",
       "      <td>Intel Celeron Dual Core N3050 1.6GHz</td>\n",
       "      <td>2GB</td>\n",
       "      <td>64GB Flash Storage</td>\n",
       "      <td>Intel HD Graphics</td>\n",
       "      <td>Windows 10</td>\n",
       "      <td>1.5kg</td>\n",
       "      <td>12201.1200</td>\n",
       "    </tr>\n",
       "    <tr>\n",
       "      <th>1301</th>\n",
       "      <td>HP</td>\n",
       "      <td>Notebook</td>\n",
       "      <td>15.6</td>\n",
       "      <td>1366x768</td>\n",
       "      <td>Intel Core i7 6500U 2.5GHz</td>\n",
       "      <td>6GB</td>\n",
       "      <td>1TB HDD</td>\n",
       "      <td>AMD Radeon R5 M330</td>\n",
       "      <td>Windows 10</td>\n",
       "      <td>2.19kg</td>\n",
       "      <td>40705.9200</td>\n",
       "    </tr>\n",
       "    <tr>\n",
       "      <th>1302</th>\n",
       "      <td>Asus</td>\n",
       "      <td>Notebook</td>\n",
       "      <td>15.6</td>\n",
       "      <td>1366x768</td>\n",
       "      <td>Intel Celeron Dual Core N3050 1.6GHz</td>\n",
       "      <td>4GB</td>\n",
       "      <td>500GB HDD</td>\n",
       "      <td>Intel HD Graphics</td>\n",
       "      <td>Windows 10</td>\n",
       "      <td>2.2kg</td>\n",
       "      <td>19660.3200</td>\n",
       "    </tr>\n",
       "  </tbody>\n",
       "</table>\n",
       "<p>1303 rows × 11 columns</p>\n",
       "</div>"
      ],
      "text/plain": [
       "          Company            TypeName  Inches  \\\n",
       "Laptop ID                                       \n",
       "0           Apple           Ultrabook    13.3   \n",
       "1           Apple           Ultrabook    13.3   \n",
       "2              HP            Notebook    15.6   \n",
       "3           Apple           Ultrabook    15.4   \n",
       "4           Apple           Ultrabook    13.3   \n",
       "...           ...                 ...     ...   \n",
       "1298       Lenovo  2 in 1 Convertible    14.0   \n",
       "1299       Lenovo  2 in 1 Convertible    13.3   \n",
       "1300       Lenovo            Notebook    14.0   \n",
       "1301           HP            Notebook    15.6   \n",
       "1302         Asus            Notebook    15.6   \n",
       "\n",
       "                                     ScreenResolution  \\\n",
       "Laptop ID                                               \n",
       "0                  IPS Panel Retina Display 2560x1600   \n",
       "1                                            1440x900   \n",
       "2                                   Full HD 1920x1080   \n",
       "3                  IPS Panel Retina Display 2880x1800   \n",
       "4                  IPS Panel Retina Display 2560x1600   \n",
       "...                                               ...   \n",
       "1298        IPS Panel Full HD / Touchscreen 1920x1080   \n",
       "1299       IPS Panel Quad HD+ / Touchscreen 3200x1800   \n",
       "1300                                         1366x768   \n",
       "1301                                         1366x768   \n",
       "1302                                         1366x768   \n",
       "\n",
       "                                            Cpu   Ram               Memory  \\\n",
       "Laptop ID                                                                    \n",
       "0                          Intel Core i5 2.3GHz   8GB            128GB SSD   \n",
       "1                          Intel Core i5 1.8GHz   8GB  128GB Flash Storage   \n",
       "2                    Intel Core i5 7200U 2.5GHz   8GB            256GB SSD   \n",
       "3                          Intel Core i7 2.7GHz  16GB            512GB SSD   \n",
       "4                          Intel Core i5 3.1GHz   8GB            256GB SSD   \n",
       "...                                         ...   ...                  ...   \n",
       "1298                 Intel Core i7 6500U 2.5GHz   4GB            128GB SSD   \n",
       "1299                 Intel Core i7 6500U 2.5GHz  16GB            512GB SSD   \n",
       "1300       Intel Celeron Dual Core N3050 1.6GHz   2GB   64GB Flash Storage   \n",
       "1301                 Intel Core i7 6500U 2.5GHz   6GB              1TB HDD   \n",
       "1302       Intel Celeron Dual Core N3050 1.6GHz   4GB            500GB HDD   \n",
       "\n",
       "                                    Gpu       OpSys  Weight        Price  \n",
       "Laptop ID                                                                 \n",
       "0          Intel Iris Plus Graphics 640       macOS  1.37kg   71378.6832  \n",
       "1                Intel HD Graphics 6000       macOS  1.34kg   47895.5232  \n",
       "2                 Intel HD Graphics 620       No OS  1.86kg   30636.0000  \n",
       "3                    AMD Radeon Pro 455       macOS  1.83kg  135195.3360  \n",
       "4          Intel Iris Plus Graphics 650       macOS  1.37kg   96095.8080  \n",
       "...                                 ...         ...     ...          ...  \n",
       "1298              Intel HD Graphics 520  Windows 10   1.8kg   33992.6400  \n",
       "1299              Intel HD Graphics 520  Windows 10   1.3kg   79866.7200  \n",
       "1300                  Intel HD Graphics  Windows 10   1.5kg   12201.1200  \n",
       "1301                 AMD Radeon R5 M330  Windows 10  2.19kg   40705.9200  \n",
       "1302                  Intel HD Graphics  Windows 10   2.2kg   19660.3200  \n",
       "\n",
       "[1303 rows x 11 columns]"
      ]
     },
     "execution_count": 4,
     "metadata": {},
     "output_type": "execute_result"
    }
   ],
   "source": [
    "laptopData"
   ]
  },
  {
   "cell_type": "code",
   "execution_count": 5,
   "metadata": {},
   "outputs": [
    {
     "data": {
      "text/plain": [
       "(1303, 11)"
      ]
     },
     "execution_count": 5,
     "metadata": {},
     "output_type": "execute_result"
    }
   ],
   "source": [
    "laptopData.shape"
   ]
  },
  {
   "cell_type": "code",
   "execution_count": 6,
   "metadata": {},
   "outputs": [
    {
     "name": "stdout",
     "output_type": "stream",
     "text": [
      "<class 'pandas.core.frame.DataFrame'>\n",
      "Int64Index: 1303 entries, 0 to 1302\n",
      "Data columns (total 11 columns):\n",
      " #   Column            Non-Null Count  Dtype  \n",
      "---  ------            --------------  -----  \n",
      " 0   Company           1303 non-null   object \n",
      " 1   TypeName          1303 non-null   object \n",
      " 2   Inches            1303 non-null   float64\n",
      " 3   ScreenResolution  1303 non-null   object \n",
      " 4   Cpu               1303 non-null   object \n",
      " 5   Ram               1303 non-null   object \n",
      " 6   Memory            1303 non-null   object \n",
      " 7   Gpu               1303 non-null   object \n",
      " 8   OpSys             1303 non-null   object \n",
      " 9   Weight            1303 non-null   object \n",
      " 10  Price             1303 non-null   float64\n",
      "dtypes: float64(2), object(9)\n",
      "memory usage: 122.2+ KB\n"
     ]
    }
   ],
   "source": [
    "laptopData.info()"
   ]
  },
  {
   "cell_type": "code",
   "execution_count": 7,
   "metadata": {},
   "outputs": [
    {
     "data": {
      "text/html": [
       "<div>\n",
       "<style scoped>\n",
       "    .dataframe tbody tr th:only-of-type {\n",
       "        vertical-align: middle;\n",
       "    }\n",
       "\n",
       "    .dataframe tbody tr th {\n",
       "        vertical-align: top;\n",
       "    }\n",
       "\n",
       "    .dataframe thead th {\n",
       "        text-align: right;\n",
       "    }\n",
       "</style>\n",
       "<table border=\"1\" class=\"dataframe\">\n",
       "  <thead>\n",
       "    <tr style=\"text-align: right;\">\n",
       "      <th></th>\n",
       "      <th>Inches</th>\n",
       "      <th>Price</th>\n",
       "    </tr>\n",
       "  </thead>\n",
       "  <tbody>\n",
       "    <tr>\n",
       "      <th>count</th>\n",
       "      <td>1303.000000</td>\n",
       "      <td>1303.000000</td>\n",
       "    </tr>\n",
       "    <tr>\n",
       "      <th>mean</th>\n",
       "      <td>15.017191</td>\n",
       "      <td>59870.042910</td>\n",
       "    </tr>\n",
       "    <tr>\n",
       "      <th>std</th>\n",
       "      <td>1.426304</td>\n",
       "      <td>37243.201786</td>\n",
       "    </tr>\n",
       "    <tr>\n",
       "      <th>min</th>\n",
       "      <td>10.100000</td>\n",
       "      <td>9270.720000</td>\n",
       "    </tr>\n",
       "    <tr>\n",
       "      <th>25%</th>\n",
       "      <td>14.000000</td>\n",
       "      <td>31914.720000</td>\n",
       "    </tr>\n",
       "    <tr>\n",
       "      <th>50%</th>\n",
       "      <td>15.600000</td>\n",
       "      <td>52054.560000</td>\n",
       "    </tr>\n",
       "    <tr>\n",
       "      <th>75%</th>\n",
       "      <td>15.600000</td>\n",
       "      <td>79274.246400</td>\n",
       "    </tr>\n",
       "    <tr>\n",
       "      <th>max</th>\n",
       "      <td>18.400000</td>\n",
       "      <td>324954.720000</td>\n",
       "    </tr>\n",
       "  </tbody>\n",
       "</table>\n",
       "</div>"
      ],
      "text/plain": [
       "            Inches          Price\n",
       "count  1303.000000    1303.000000\n",
       "mean     15.017191   59870.042910\n",
       "std       1.426304   37243.201786\n",
       "min      10.100000    9270.720000\n",
       "25%      14.000000   31914.720000\n",
       "50%      15.600000   52054.560000\n",
       "75%      15.600000   79274.246400\n",
       "max      18.400000  324954.720000"
      ]
     },
     "execution_count": 7,
     "metadata": {},
     "output_type": "execute_result"
    }
   ],
   "source": [
    "laptopData.describe()"
   ]
  },
  {
   "cell_type": "code",
   "execution_count": 8,
   "metadata": {},
   "outputs": [],
   "source": [
    "# Univarient analysis"
   ]
  },
  {
   "cell_type": "code",
   "execution_count": 9,
   "metadata": {},
   "outputs": [
    {
     "data": {
      "text/plain": [
       "<Axes: xlabel='Company', ylabel='count'>"
      ]
     },
     "execution_count": 9,
     "metadata": {},
     "output_type": "execute_result"
    },
    {
     "data": {
      "image/png": "[encoded data removed]",
      "text/plain": [
       "<Figure size 2000x500 with 1 Axes>"
      ]
     },
     "metadata": {},
     "output_type": "display_data"
    }
   ],
   "source": [
    "# laptop company\n",
    "laptopData['Company'].value_counts()\n",
    "fig, ax = plt.subplots(figsize= (20,5))\n",
    "sns.countplot(x = \"Company\", data = laptopData,ax= ax)"
   ]
  },
  {
   "cell_type": "code",
   "execution_count": 10,
   "metadata": {},
   "outputs": [
    {
     "data": {
      "text/plain": [
       "Laptop ID\n",
       "0        71378.6832\n",
       "1        47895.5232\n",
       "2        30636.0000\n",
       "3       135195.3360\n",
       "4        96095.8080\n",
       "           ...     \n",
       "1298     33992.6400\n",
       "1299     79866.7200\n",
       "1300     12201.1200\n",
       "1301     40705.9200\n",
       "1302     19660.3200\n",
       "Name: Price, Length: 1303, dtype: float64"
      ]
     },
     "execution_count": 10,
     "metadata": {},
     "output_type": "execute_result"
    }
   ],
   "source": [
    "laptopData['Price']"
   ]
  },
  {
   "cell_type": "code",
   "execution_count": 11,
   "metadata": {},
   "outputs": [
    {
     "data": {
      "image/png": "[encoded data removed]",
      "text/plain": [
       "<Figure size 640x480 with 1 Axes>"
      ]
     },
     "metadata": {},
     "output_type": "display_data"
    }
   ],
   "source": [
    "# Price dustribution \n",
    "\n",
    "price = sns.histplot(laptopData,x ='Price')\n",
    "# price = sns.kdeplot(laptopData,x ='Price')"
   ]
  },
  {
   "cell_type": "code",
   "execution_count": 12,
   "metadata": {},
   "outputs": [
    {
     "data": {
      "text/plain": [
       "<Figure size 1500x700 with 0 Axes>"
      ]
     },
     "metadata": {},
     "output_type": "display_data"
    },
    {
     "data": {
      "image/png": "[encoded data removed]",
      "text/plain": [
       "<Figure size 1173.62x500 with 1 Axes>"
      ]
     },
     "metadata": {},
     "output_type": "display_data"
    }
   ],
   "source": [
    "plt.figure(figsize=(15,7))\n",
    "# fig, ax = plt.subplot(figsize = (12,5))\n",
    "sns.displot(laptopData,x= 'Price',hue= 'TypeName', kind= \"kde\",height= 5, aspect= 2 )\n",
    "plt.show()"
   ]
  },
  {
   "cell_type": "code",
   "execution_count": 13,
   "metadata": {},
   "outputs": [
    {
     "data": {
      "text/plain": [
       "<seaborn.axisgrid.FacetGrid at 0x1a6609a3e50>"
      ]
     },
     "execution_count": 13,
     "metadata": {},
     "output_type": "execute_result"
    },
    {
     "data": {
      "image/png": "[encoded data removed]",
      "text/plain": [
       "<Figure size 1147.25x500 with 1 Axes>"
      ]
     },
     "metadata": {},
     "output_type": "display_data"
    }
   ],
   "source": [
    "sns.displot(laptopData,x= 'Price',hue= 'OpSys', kind= \"kde\",height= 5, aspect= 2)"
   ]
  },
  {
   "cell_type": "code",
   "execution_count": 14,
   "metadata": {},
   "outputs": [
    {
     "data": {
      "text/plain": [
       "array(['Apple', 'HP', 'Acer', 'Asus', 'Dell', 'Lenovo', 'Chuwi', 'MSI',\n",
       "       'Microsoft', 'Toshiba', 'Huawei', 'Xiaomi', 'Vero', 'Razer',\n",
       "       'Mediacom', 'Samsung', 'Google', 'Fujitsu', 'LG'], dtype=object)"
      ]
     },
     "execution_count": 14,
     "metadata": {},
     "output_type": "execute_result"
    }
   ],
   "source": [
    "# EDA process \n",
    "laptopData['Company'].unique()"
   ]
  },
  {
   "cell_type": "code",
   "execution_count": 15,
   "metadata": {},
   "outputs": [
    {
     "data": {
      "text/plain": [
       "Laptop ID\n",
       "0       13.3\n",
       "1       13.3\n",
       "2       15.6\n",
       "3       15.4\n",
       "4       13.3\n",
       "        ... \n",
       "1298    14.0\n",
       "1299    13.3\n",
       "1300    14.0\n",
       "1301    15.6\n",
       "1302    15.6\n",
       "Name: Inches, Length: 1303, dtype: float64"
      ]
     },
     "execution_count": 15,
     "metadata": {},
     "output_type": "execute_result"
    }
   ],
   "source": [
    "laptopData['Inches'].unique()\n",
    "\n",
    "laptopData['Inches'].astype(float)"
   ]
  },
  {
   "cell_type": "code",
   "execution_count": 16,
   "metadata": {},
   "outputs": [
    {
     "data": {
      "text/plain": [
       "array(['IPS Panel Retina Display 2560x1600', '1440x900',\n",
       "       'Full HD 1920x1080', 'IPS Panel Retina Display 2880x1800',\n",
       "       '1366x768', 'IPS Panel Full HD 1920x1080',\n",
       "       'IPS Panel Retina Display 2304x1440',\n",
       "       'IPS Panel Full HD / Touchscreen 1920x1080',\n",
       "       'Full HD / Touchscreen 1920x1080',\n",
       "       'Touchscreen / Quad HD+ 3200x1800',\n",
       "       'IPS Panel Touchscreen 1920x1200', 'Touchscreen 2256x1504',\n",
       "       'Quad HD+ / Touchscreen 3200x1800', 'IPS Panel 1366x768',\n",
       "       'IPS Panel 4K Ultra HD / Touchscreen 3840x2160',\n",
       "       'IPS Panel Full HD 2160x1440',\n",
       "       '4K Ultra HD / Touchscreen 3840x2160', 'Touchscreen 2560x1440',\n",
       "       '1600x900', 'IPS Panel 4K Ultra HD 3840x2160',\n",
       "       '4K Ultra HD 3840x2160', 'Touchscreen 1366x768',\n",
       "       'IPS Panel Full HD 1366x768', 'IPS Panel 2560x1440',\n",
       "       'IPS Panel Full HD 2560x1440',\n",
       "       'IPS Panel Retina Display 2736x1824', 'Touchscreen 2400x1600',\n",
       "       '2560x1440', 'IPS Panel Quad HD+ 2560x1440',\n",
       "       'IPS Panel Quad HD+ 3200x1800',\n",
       "       'IPS Panel Quad HD+ / Touchscreen 3200x1800',\n",
       "       'IPS Panel Touchscreen 1366x768', '1920x1080',\n",
       "       'IPS Panel Full HD 1920x1200',\n",
       "       'IPS Panel Touchscreen / 4K Ultra HD 3840x2160',\n",
       "       'IPS Panel Touchscreen 2560x1440',\n",
       "       'Touchscreen / Full HD 1920x1080', 'Quad HD+ 3200x1800',\n",
       "       'Touchscreen / 4K Ultra HD 3840x2160',\n",
       "       'IPS Panel Touchscreen 2400x1600'], dtype=object)"
      ]
     },
     "execution_count": 16,
     "metadata": {},
     "output_type": "execute_result"
    }
   ],
   "source": [
    "laptopData[\"ScreenResolution\"].unique()\n"
   ]
  },
  {
   "cell_type": "code",
   "execution_count": 17,
   "metadata": {},
   "outputs": [
    {
     "data": {
      "text/plain": [
       "Laptop ID\n",
       "0       2560x1600\n",
       "1        1440x900\n",
       "2       1920x1080\n",
       "3       2880x1800\n",
       "4       2560x1600\n",
       "          ...    \n",
       "1298    1920x1080\n",
       "1299    3200x1800\n",
       "1300     1366x768\n",
       "1301     1366x768\n",
       "1302     1366x768\n",
       "Name: ScreenResolution, Length: 1303, dtype: object"
      ]
     },
     "execution_count": 17,
     "metadata": {},
     "output_type": "execute_result"
    }
   ],
   "source": [
    "laptopData[\"ScreenResolution\"] = laptopData[\"ScreenResolution\"].str.split(' ').str[-1]\n",
    "laptopData[\"ScreenResolution\"]"
   ]
  },
  {
   "cell_type": "code",
   "execution_count": 18,
   "metadata": {},
   "outputs": [
    {
     "data": {
      "text/plain": [
       "array(['Intel Core i5 2.3GHz', 'Intel Core i5 1.8GHz',\n",
       "       'Intel Core i5 7200U 2.5GHz', 'Intel Core i7 2.7GHz',\n",
       "       'Intel Core i5 3.1GHz', 'AMD A9-Series 9420 3GHz',\n",
       "       'Intel Core i7 2.2GHz', 'Intel Core i7 8550U 1.8GHz',\n",
       "       'Intel Core i5 8250U 1.6GHz', 'Intel Core i3 6006U 2GHz',\n",
       "       'Intel Core i7 2.8GHz', 'Intel Core M m3 1.2GHz',\n",
       "       'Intel Core i7 7500U 2.7GHz', 'Intel Core i7 2.9GHz',\n",
       "       'Intel Core i3 7100U 2.4GHz', 'Intel Atom x5-Z8350 1.44GHz',\n",
       "       'Intel Core i5 7300HQ 2.5GHz', 'AMD E-Series E2-9000e 1.5GHz',\n",
       "       'Intel Core i5 1.6GHz', 'Intel Core i7 8650U 1.9GHz',\n",
       "       'Intel Atom x5-Z8300 1.44GHz', 'AMD E-Series E2-6110 1.5GHz',\n",
       "       'AMD A6-Series 9220 2.5GHz',\n",
       "       'Intel Celeron Dual Core N3350 1.1GHz',\n",
       "       'Intel Core i3 7130U 2.7GHz', 'Intel Core i7 7700HQ 2.8GHz',\n",
       "       'Intel Core i5 2.0GHz', 'AMD Ryzen 1700 3GHz',\n",
       "       'Intel Pentium Quad Core N4200 1.1GHz',\n",
       "       'Intel Atom x5-Z8550 1.44GHz',\n",
       "       'Intel Celeron Dual Core N3060 1.6GHz', 'Intel Core i5 1.3GHz',\n",
       "       'AMD FX 9830P 3GHz', 'Intel Core i7 7560U 2.4GHz',\n",
       "       'AMD E-Series 6110 1.5GHz', 'Intel Core i5 6200U 2.3GHz',\n",
       "       'Intel Core M 6Y75 1.2GHz', 'Intel Core i5 7500U 2.7GHz',\n",
       "       'Intel Core i3 6006U 2.2GHz', 'AMD A6-Series 9220 2.9GHz',\n",
       "       'Intel Core i7 6920HQ 2.9GHz', 'Intel Core i5 7Y54 1.2GHz',\n",
       "       'Intel Core i7 7820HK 2.9GHz', 'Intel Xeon E3-1505M V6 3GHz',\n",
       "       'Intel Core i7 6500U 2.5GHz', 'AMD E-Series 9000e 1.5GHz',\n",
       "       'AMD A10-Series A10-9620P 2.5GHz', 'AMD A6-Series A6-9220 2.5GHz',\n",
       "       'Intel Core i5 2.9GHz', 'Intel Core i7 6600U 2.6GHz',\n",
       "       'Intel Core i3 6006U 2.0GHz',\n",
       "       'Intel Celeron Dual Core 3205U 1.5GHz',\n",
       "       'Intel Core i7 7820HQ 2.9GHz', 'AMD A10-Series 9600P 2.4GHz',\n",
       "       'Intel Core i7 7600U 2.8GHz', 'AMD A8-Series 7410 2.2GHz',\n",
       "       'Intel Celeron Dual Core 3855U 1.6GHz',\n",
       "       'Intel Pentium Quad Core N3710 1.6GHz',\n",
       "       'AMD A12-Series 9720P 2.7GHz', 'Intel Core i5 7300U 2.6GHz',\n",
       "       'AMD A12-Series 9720P 3.6GHz',\n",
       "       'Intel Celeron Quad Core N3450 1.1GHz',\n",
       "       'Intel Celeron Dual Core N3060 1.60GHz',\n",
       "       'Intel Core i5 6440HQ 2.6GHz', 'Intel Core i7 6820HQ 2.7GHz',\n",
       "       'AMD Ryzen 1600 3.2GHz', 'Intel Core i7 7Y75 1.3GHz',\n",
       "       'Intel Core i5 7440HQ 2.8GHz', 'Intel Core i7 7660U 2.5GHz',\n",
       "       'Intel Core i7 7700HQ 2.7GHz', 'Intel Core M m3-7Y30 2.2GHz',\n",
       "       'Intel Core i5 7Y57 1.2GHz', 'Intel Core i7 6700HQ 2.6GHz',\n",
       "       'Intel Core i3 6100U 2.3GHz', 'AMD A10-Series 9620P 2.5GHz',\n",
       "       'AMD E-Series 7110 1.8GHz', 'Intel Celeron Dual Core N3350 2.0GHz',\n",
       "       'AMD A9-Series A9-9420 3GHz', 'Intel Core i7 6820HK 2.7GHz',\n",
       "       'Intel Core M 7Y30 1.0GHz', 'Intel Xeon E3-1535M v6 3.1GHz',\n",
       "       'Intel Celeron Quad Core N3160 1.6GHz',\n",
       "       'Intel Core i5 6300U 2.4GHz', 'Intel Core i3 6100U 2.1GHz',\n",
       "       'AMD E-Series E2-9000 2.2GHz',\n",
       "       'Intel Celeron Dual Core N3050 1.6GHz',\n",
       "       'Intel Core M M3-6Y30 0.9GHz', 'AMD A9-Series 9420 2.9GHz',\n",
       "       'Intel Core i5 6300HQ 2.3GHz', 'AMD A6-Series 7310 2GHz',\n",
       "       'Intel Atom Z8350 1.92GHz', 'Intel Xeon E3-1535M v5 2.9GHz',\n",
       "       'Intel Core i5 6260U 1.8GHz',\n",
       "       'Intel Pentium Dual Core N4200 1.1GHz',\n",
       "       'Intel Celeron Quad Core N3710 1.6GHz', 'Intel Core M 1.2GHz',\n",
       "       'AMD A12-Series 9700P 2.5GHz', 'Intel Core i7 7500U 2.5GHz',\n",
       "       'Intel Pentium Dual Core 4405U 2.1GHz',\n",
       "       'AMD A4-Series 7210 2.2GHz', 'Intel Core i7 6560U 2.2GHz',\n",
       "       'Intel Core M m7-6Y75 1.2GHz', 'AMD FX 8800P 2.1GHz',\n",
       "       'Intel Core M M7-6Y75 1.2GHz', 'Intel Core i5 7200U 2.50GHz',\n",
       "       'Intel Core i5 7200U 2.70GHz', 'Intel Atom X5-Z8350 1.44GHz',\n",
       "       'Intel Core i5 7200U 2.7GHz', 'Intel Core M 1.1GHz',\n",
       "       'Intel Pentium Dual Core 4405Y 1.5GHz',\n",
       "       'Intel Pentium Quad Core N3700 1.6GHz', 'Intel Core M 6Y54 1.1GHz',\n",
       "       'Intel Core i7 6500U 2.50GHz',\n",
       "       'Intel Celeron Dual Core N3350 2GHz',\n",
       "       'Samsung Cortex A72&A53 2.0GHz', 'AMD E-Series 9000 2.2GHz',\n",
       "       'Intel Core M 6Y30 0.9GHz', 'AMD A9-Series 9410 2.9GHz'],\n",
       "      dtype=object)"
      ]
     },
     "execution_count": 18,
     "metadata": {},
     "output_type": "execute_result"
    }
   ],
   "source": [
    "laptopData['Cpu'].unique()"
   ]
  },
  {
   "cell_type": "code",
   "execution_count": 19,
   "metadata": {},
   "outputs": [],
   "source": [
    "laptopData['Cpu'] = laptopData['Cpu'].str.split(' ').str[-1].str.replace(\"GHz\",\" \")\n",
    "laptopData['Cpu_GHz'] = laptopData['Cpu'].astype(float)\n"
   ]
  },
  {
   "cell_type": "code",
   "execution_count": 20,
   "metadata": {},
   "outputs": [
    {
     "data": {
      "text/plain": [
       "Laptop ID\n",
       "0       2.3\n",
       "1       1.8\n",
       "2       2.5\n",
       "3       2.7\n",
       "4       3.1\n",
       "       ... \n",
       "1298    2.5\n",
       "1299    2.5\n",
       "1300    1.6\n",
       "1301    2.5\n",
       "1302    1.6\n",
       "Name: Cpu_GHz, Length: 1303, dtype: float64"
      ]
     },
     "execution_count": 20,
     "metadata": {},
     "output_type": "execute_result"
    }
   ],
   "source": [
    "laptopData['Cpu_GHz']"
   ]
  },
  {
   "cell_type": "code",
   "execution_count": 21,
   "metadata": {},
   "outputs": [
    {
     "data": {
      "text/plain": [
       "array(['8GB', '16GB', '4GB', '2GB', '12GB', '6GB', '32GB', '24GB', '64GB'],\n",
       "      dtype=object)"
      ]
     },
     "execution_count": 21,
     "metadata": {},
     "output_type": "execute_result"
    }
   ],
   "source": [
    "laptopData['Ram'].unique()"
   ]
  },
  {
   "cell_type": "code",
   "execution_count": 22,
   "metadata": {},
   "outputs": [],
   "source": [
    "laptopData['Ram'] =  laptopData['Ram'].str.replace(\"GB\",\" \")\n",
    "laptopData['Ram_GB'] = laptopData['Ram'].astype(int)"
   ]
  },
  {
   "cell_type": "code",
   "execution_count": 23,
   "metadata": {},
   "outputs": [
    {
     "data": {
      "text/plain": [
       "Laptop ID\n",
       "0        8\n",
       "1        8\n",
       "2        8\n",
       "3       16\n",
       "4        8\n",
       "        ..\n",
       "1298     4\n",
       "1299    16\n",
       "1300     2\n",
       "1301     6\n",
       "1302     4\n",
       "Name: Ram_GB, Length: 1303, dtype: int32"
      ]
     },
     "execution_count": 23,
     "metadata": {},
     "output_type": "execute_result"
    }
   ],
   "source": [
    "laptopData['Ram_GB'] "
   ]
  },
  {
   "cell_type": "code",
   "execution_count": 24,
   "metadata": {},
   "outputs": [
    {
     "data": {
      "text/plain": [
       "array(['128GB SSD', '128GB Flash Storage', '256GB SSD', '512GB SSD',\n",
       "       '500GB HDD', '256GB Flash Storage', '1TB HDD',\n",
       "       '32GB Flash Storage', '128GB SSD +  1TB HDD',\n",
       "       '256GB SSD +  256GB SSD', '64GB Flash Storage',\n",
       "       '256GB SSD +  1TB HDD', '256GB SSD +  2TB HDD', '32GB SSD',\n",
       "       '2TB HDD', '64GB SSD', '1.0TB Hybrid', '512GB SSD +  1TB HDD',\n",
       "       '1TB SSD', '256GB SSD +  500GB HDD', '128GB SSD +  2TB HDD',\n",
       "       '512GB SSD +  512GB SSD', '16GB SSD', '16GB Flash Storage',\n",
       "       '512GB SSD +  256GB SSD', '512GB SSD +  2TB HDD',\n",
       "       '64GB Flash Storage +  1TB HDD', '180GB SSD', '1TB HDD +  1TB HDD',\n",
       "       '32GB HDD', '1TB SSD +  1TB HDD', '512GB Flash Storage',\n",
       "       '128GB HDD', '240GB SSD', '8GB SSD', '508GB Hybrid', '1.0TB HDD',\n",
       "       '512GB SSD +  1.0TB Hybrid', '256GB SSD +  1.0TB Hybrid'],\n",
       "      dtype=object)"
      ]
     },
     "execution_count": 24,
     "metadata": {},
     "output_type": "execute_result"
    }
   ],
   "source": [
    "laptopData['Memory'].unique()"
   ]
  },
  {
   "cell_type": "code",
   "execution_count": 25,
   "metadata": {},
   "outputs": [],
   "source": [
    "def memory_clean(val):\n",
    "    # print(\"val is  : \",val)\n",
    "    if   \"GB\" in val:\n",
    "        return val.split(\" \")[0].replace(\"GB\",\" \")\n",
    "    if   \"TB\" in val:   \n",
    "        return float(val.split(\" \")[0].replace(\"TB\",\" \"))*1000"
   ]
  },
  {
   "cell_type": "code",
   "execution_count": 26,
   "metadata": {},
   "outputs": [],
   "source": [
    "laptopData['Memory_GB'] = laptopData.apply(lambda x:memory_clean(x['Memory']),axis =1)\n",
    "laptopData['Memory_GB'] = laptopData['Memory_GB'].astype(int)"
   ]
  },
  {
   "cell_type": "code",
   "execution_count": 27,
   "metadata": {},
   "outputs": [
    {
     "data": {
      "text/plain": [
       "array(['Intel Iris Plus Graphics 640', 'Intel HD Graphics 6000',\n",
       "       'Intel HD Graphics 620', 'AMD Radeon Pro 455',\n",
       "       'Intel Iris Plus Graphics 650', 'AMD Radeon R5',\n",
       "       'Intel Iris Pro Graphics', 'Nvidia GeForce MX150',\n",
       "       'Intel UHD Graphics 620', 'Intel HD Graphics 520',\n",
       "       'AMD Radeon Pro 555', 'AMD Radeon R5 M430',\n",
       "       'Intel HD Graphics 615', 'AMD Radeon Pro 560',\n",
       "       'Nvidia GeForce 940MX', 'Intel HD Graphics 400',\n",
       "       'Nvidia GeForce GTX 1050', 'AMD Radeon R2', 'AMD Radeon 530',\n",
       "       'Nvidia GeForce 930MX', 'Intel HD Graphics',\n",
       "       'Intel HD Graphics 500', 'Nvidia GeForce 930MX ',\n",
       "       'Nvidia GeForce GTX 1060', 'Nvidia GeForce 150MX',\n",
       "       'Intel Iris Graphics 540', 'AMD Radeon RX 580',\n",
       "       'Nvidia GeForce 920MX', 'AMD Radeon R4 Graphics', 'AMD Radeon 520',\n",
       "       'Nvidia GeForce GTX 1070', 'Nvidia GeForce GTX 1050 Ti',\n",
       "       'Nvidia GeForce MX130', 'AMD R4 Graphics',\n",
       "       'Nvidia GeForce GTX 940MX', 'AMD Radeon RX 560',\n",
       "       'Nvidia GeForce 920M', 'AMD Radeon R7 M445', 'AMD Radeon RX 550',\n",
       "       'Nvidia GeForce GTX 1050M', 'Intel HD Graphics 515',\n",
       "       'AMD Radeon R5 M420', 'Intel HD Graphics 505',\n",
       "       'Nvidia GTX 980 SLI', 'AMD R17M-M1-70', 'Nvidia GeForce GTX 1080',\n",
       "       'Nvidia Quadro M1200', 'Nvidia GeForce 920MX ',\n",
       "       'Nvidia GeForce GTX 950M', 'AMD FirePro W4190M ',\n",
       "       'Nvidia GeForce GTX 980M', 'Intel Iris Graphics 550',\n",
       "       'Nvidia GeForce 930M', 'Intel HD Graphics 630',\n",
       "       'AMD Radeon R5 430', 'Nvidia GeForce GTX 940M',\n",
       "       'Intel HD Graphics 510', 'Intel HD Graphics 405',\n",
       "       'AMD Radeon RX 540', 'Nvidia GeForce GT 940MX',\n",
       "       'AMD FirePro W5130M', 'Nvidia Quadro M2200M', 'AMD Radeon R4',\n",
       "       'Nvidia Quadro M620', 'AMD Radeon R7 M460',\n",
       "       'Intel HD Graphics 530', 'Nvidia GeForce GTX 965M',\n",
       "       'Nvidia GeForce GTX1080', 'Nvidia GeForce GTX1050 Ti',\n",
       "       'Nvidia GeForce GTX 960M', 'AMD Radeon R2 Graphics',\n",
       "       'Nvidia Quadro M620M', 'Nvidia GeForce GTX 970M',\n",
       "       'Nvidia GeForce GTX 960<U+039C>', 'Intel Graphics 620',\n",
       "       'Nvidia GeForce GTX 960', 'AMD Radeon R5 520',\n",
       "       'AMD Radeon R7 M440', 'AMD Radeon R7', 'Nvidia Quadro M520M',\n",
       "       'Nvidia Quadro M2200', 'Nvidia Quadro M2000M',\n",
       "       'Intel HD Graphics 540', 'Nvidia Quadro M1000M', 'AMD Radeon 540',\n",
       "       'Nvidia GeForce GTX 1070M', 'Nvidia GeForce GTX1060',\n",
       "       'Intel HD Graphics 5300', 'AMD Radeon R5 M420X',\n",
       "       'AMD Radeon R7 Graphics', 'Nvidia GeForce 920',\n",
       "       'Nvidia GeForce 940M', 'Nvidia GeForce GTX 930MX',\n",
       "       'AMD Radeon R7 M465', 'AMD Radeon R3', 'Nvidia GeForce GTX 1050Ti',\n",
       "       'AMD Radeon R7 M365X', 'AMD Radeon R9 M385',\n",
       "       'Intel HD Graphics 620 ', 'Nvidia Quadro 3000M',\n",
       "       'Nvidia GeForce GTX 980 ', 'AMD Radeon R5 M330',\n",
       "       'AMD FirePro W4190M', 'AMD FirePro W6150M', 'AMD Radeon R5 M315',\n",
       "       'Nvidia Quadro M500M', 'AMD Radeon R7 M360',\n",
       "       'Nvidia Quadro M3000M', 'Nvidia GeForce 960M', 'ARM Mali T860 MP4'],\n",
       "      dtype=object)"
      ]
     },
     "execution_count": 27,
     "metadata": {},
     "output_type": "execute_result"
    }
   ],
   "source": [
    "laptopData['Gpu'].unique()"
   ]
  },
  {
   "cell_type": "code",
   "execution_count": 28,
   "metadata": {},
   "outputs": [
    {
     "data": {
      "text/plain": [
       "array(['macOS', 'No OS', 'Windows 10', 'Mac OS X', 'Linux', 'Android',\n",
       "       'Windows 10 S', 'Chrome OS', 'Windows 7'], dtype=object)"
      ]
     },
     "execution_count": 28,
     "metadata": {},
     "output_type": "execute_result"
    }
   ],
   "source": [
    "laptopData['OpSys'].unique()"
   ]
  },
  {
   "cell_type": "code",
   "execution_count": 29,
   "metadata": {},
   "outputs": [
    {
     "data": {
      "text/plain": [
       "Laptop ID\n",
       "0       1.37\n",
       "1       1.34\n",
       "2       1.86\n",
       "3       1.83\n",
       "4       1.37\n",
       "        ... \n",
       "1298    1.80\n",
       "1299    1.30\n",
       "1300    1.50\n",
       "1301    2.19\n",
       "1302    2.20\n",
       "Name: Weight(Kg), Length: 1303, dtype: float64"
      ]
     },
     "execution_count": 29,
     "metadata": {},
     "output_type": "execute_result"
    }
   ],
   "source": [
    "laptopData['Weight(Kg)'] = laptopData['Weight'].str.replace(\"kg\", \" \")\n",
    "laptopData['Weight(Kg)'] = laptopData['Weight(Kg)'].astype(float)\n",
    "laptopData['Weight(Kg)']"
   ]
  },
  {
   "cell_type": "code",
   "execution_count": 30,
   "metadata": {},
   "outputs": [],
   "source": [
    "laptopData['Price'] = laptopData['Price'].astype(int)"
   ]
  },
  {
   "cell_type": "code",
   "execution_count": 31,
   "metadata": {},
   "outputs": [
    {
     "data": {
      "text/html": [
       "<div>\n",
       "<style scoped>\n",
       "    .dataframe tbody tr th:only-of-type {\n",
       "        vertical-align: middle;\n",
       "    }\n",
       "\n",
       "    .dataframe tbody tr th {\n",
       "        vertical-align: top;\n",
       "    }\n",
       "\n",
       "    .dataframe thead th {\n",
       "        text-align: right;\n",
       "    }\n",
       "</style>\n",
       "<table border=\"1\" class=\"dataframe\">\n",
       "  <thead>\n",
       "    <tr style=\"text-align: right;\">\n",
       "      <th></th>\n",
       "      <th>Company</th>\n",
       "      <th>TypeName</th>\n",
       "      <th>Inches</th>\n",
       "      <th>ScreenResolution</th>\n",
       "      <th>Cpu</th>\n",
       "      <th>Ram</th>\n",
       "      <th>Memory</th>\n",
       "      <th>Gpu</th>\n",
       "      <th>OpSys</th>\n",
       "      <th>Weight</th>\n",
       "      <th>Price</th>\n",
       "      <th>Cpu_GHz</th>\n",
       "      <th>Ram_GB</th>\n",
       "      <th>Memory_GB</th>\n",
       "      <th>Weight(Kg)</th>\n",
       "    </tr>\n",
       "    <tr>\n",
       "      <th>Laptop ID</th>\n",
       "      <th></th>\n",
       "      <th></th>\n",
       "      <th></th>\n",
       "      <th></th>\n",
       "      <th></th>\n",
       "      <th></th>\n",
       "      <th></th>\n",
       "      <th></th>\n",
       "      <th></th>\n",
       "      <th></th>\n",
       "      <th></th>\n",
       "      <th></th>\n",
       "      <th></th>\n",
       "      <th></th>\n",
       "      <th></th>\n",
       "    </tr>\n",
       "  </thead>\n",
       "  <tbody>\n",
       "    <tr>\n",
       "      <th>0</th>\n",
       "      <td>Apple</td>\n",
       "      <td>Ultrabook</td>\n",
       "      <td>13.3</td>\n",
       "      <td>2560x1600</td>\n",
       "      <td>2.3</td>\n",
       "      <td>8</td>\n",
       "      <td>128GB SSD</td>\n",
       "      <td>Intel Iris Plus Graphics 640</td>\n",
       "      <td>macOS</td>\n",
       "      <td>1.37kg</td>\n",
       "      <td>71378</td>\n",
       "      <td>2.3</td>\n",
       "      <td>8</td>\n",
       "      <td>128</td>\n",
       "      <td>1.37</td>\n",
       "    </tr>\n",
       "    <tr>\n",
       "      <th>1</th>\n",
       "      <td>Apple</td>\n",
       "      <td>Ultrabook</td>\n",
       "      <td>13.3</td>\n",
       "      <td>1440x900</td>\n",
       "      <td>1.8</td>\n",
       "      <td>8</td>\n",
       "      <td>128GB Flash Storage</td>\n",
       "      <td>Intel HD Graphics 6000</td>\n",
       "      <td>macOS</td>\n",
       "      <td>1.34kg</td>\n",
       "      <td>47895</td>\n",
       "      <td>1.8</td>\n",
       "      <td>8</td>\n",
       "      <td>128</td>\n",
       "      <td>1.34</td>\n",
       "    </tr>\n",
       "    <tr>\n",
       "      <th>2</th>\n",
       "      <td>HP</td>\n",
       "      <td>Notebook</td>\n",
       "      <td>15.6</td>\n",
       "      <td>1920x1080</td>\n",
       "      <td>2.5</td>\n",
       "      <td>8</td>\n",
       "      <td>256GB SSD</td>\n",
       "      <td>Intel HD Graphics 620</td>\n",
       "      <td>No OS</td>\n",
       "      <td>1.86kg</td>\n",
       "      <td>30636</td>\n",
       "      <td>2.5</td>\n",
       "      <td>8</td>\n",
       "      <td>256</td>\n",
       "      <td>1.86</td>\n",
       "    </tr>\n",
       "    <tr>\n",
       "      <th>3</th>\n",
       "      <td>Apple</td>\n",
       "      <td>Ultrabook</td>\n",
       "      <td>15.4</td>\n",
       "      <td>2880x1800</td>\n",
       "      <td>2.7</td>\n",
       "      <td>16</td>\n",
       "      <td>512GB SSD</td>\n",
       "      <td>AMD Radeon Pro 455</td>\n",
       "      <td>macOS</td>\n",
       "      <td>1.83kg</td>\n",
       "      <td>135195</td>\n",
       "      <td>2.7</td>\n",
       "      <td>16</td>\n",
       "      <td>512</td>\n",
       "      <td>1.83</td>\n",
       "    </tr>\n",
       "    <tr>\n",
       "      <th>4</th>\n",
       "      <td>Apple</td>\n",
       "      <td>Ultrabook</td>\n",
       "      <td>13.3</td>\n",
       "      <td>2560x1600</td>\n",
       "      <td>3.1</td>\n",
       "      <td>8</td>\n",
       "      <td>256GB SSD</td>\n",
       "      <td>Intel Iris Plus Graphics 650</td>\n",
       "      <td>macOS</td>\n",
       "      <td>1.37kg</td>\n",
       "      <td>96095</td>\n",
       "      <td>3.1</td>\n",
       "      <td>8</td>\n",
       "      <td>256</td>\n",
       "      <td>1.37</td>\n",
       "    </tr>\n",
       "    <tr>\n",
       "      <th>...</th>\n",
       "      <td>...</td>\n",
       "      <td>...</td>\n",
       "      <td>...</td>\n",
       "      <td>...</td>\n",
       "      <td>...</td>\n",
       "      <td>...</td>\n",
       "      <td>...</td>\n",
       "      <td>...</td>\n",
       "      <td>...</td>\n",
       "      <td>...</td>\n",
       "      <td>...</td>\n",
       "      <td>...</td>\n",
       "      <td>...</td>\n",
       "      <td>...</td>\n",
       "      <td>...</td>\n",
       "    </tr>\n",
       "    <tr>\n",
       "      <th>1298</th>\n",
       "      <td>Lenovo</td>\n",
       "      <td>2 in 1 Convertible</td>\n",
       "      <td>14.0</td>\n",
       "      <td>1920x1080</td>\n",
       "      <td>2.5</td>\n",
       "      <td>4</td>\n",
       "      <td>128GB SSD</td>\n",
       "      <td>Intel HD Graphics 520</td>\n",
       "      <td>Windows 10</td>\n",
       "      <td>1.8kg</td>\n",
       "      <td>33992</td>\n",
       "      <td>2.5</td>\n",
       "      <td>4</td>\n",
       "      <td>128</td>\n",
       "      <td>1.80</td>\n",
       "    </tr>\n",
       "    <tr>\n",
       "      <th>1299</th>\n",
       "      <td>Lenovo</td>\n",
       "      <td>2 in 1 Convertible</td>\n",
       "      <td>13.3</td>\n",
       "      <td>3200x1800</td>\n",
       "      <td>2.5</td>\n",
       "      <td>16</td>\n",
       "      <td>512GB SSD</td>\n",
       "      <td>Intel HD Graphics 520</td>\n",
       "      <td>Windows 10</td>\n",
       "      <td>1.3kg</td>\n",
       "      <td>79866</td>\n",
       "      <td>2.5</td>\n",
       "      <td>16</td>\n",
       "      <td>512</td>\n",
       "      <td>1.30</td>\n",
       "    </tr>\n",
       "    <tr>\n",
       "      <th>1300</th>\n",
       "      <td>Lenovo</td>\n",
       "      <td>Notebook</td>\n",
       "      <td>14.0</td>\n",
       "      <td>1366x768</td>\n",
       "      <td>1.6</td>\n",
       "      <td>2</td>\n",
       "      <td>64GB Flash Storage</td>\n",
       "      <td>Intel HD Graphics</td>\n",
       "      <td>Windows 10</td>\n",
       "      <td>1.5kg</td>\n",
       "      <td>12201</td>\n",
       "      <td>1.6</td>\n",
       "      <td>2</td>\n",
       "      <td>64</td>\n",
       "      <td>1.50</td>\n",
       "    </tr>\n",
       "    <tr>\n",
       "      <th>1301</th>\n",
       "      <td>HP</td>\n",
       "      <td>Notebook</td>\n",
       "      <td>15.6</td>\n",
       "      <td>1366x768</td>\n",
       "      <td>2.5</td>\n",
       "      <td>6</td>\n",
       "      <td>1TB HDD</td>\n",
       "      <td>AMD Radeon R5 M330</td>\n",
       "      <td>Windows 10</td>\n",
       "      <td>2.19kg</td>\n",
       "      <td>40705</td>\n",
       "      <td>2.5</td>\n",
       "      <td>6</td>\n",
       "      <td>1000</td>\n",
       "      <td>2.19</td>\n",
       "    </tr>\n",
       "    <tr>\n",
       "      <th>1302</th>\n",
       "      <td>Asus</td>\n",
       "      <td>Notebook</td>\n",
       "      <td>15.6</td>\n",
       "      <td>1366x768</td>\n",
       "      <td>1.6</td>\n",
       "      <td>4</td>\n",
       "      <td>500GB HDD</td>\n",
       "      <td>Intel HD Graphics</td>\n",
       "      <td>Windows 10</td>\n",
       "      <td>2.2kg</td>\n",
       "      <td>19660</td>\n",
       "      <td>1.6</td>\n",
       "      <td>4</td>\n",
       "      <td>500</td>\n",
       "      <td>2.20</td>\n",
       "    </tr>\n",
       "  </tbody>\n",
       "</table>\n",
       "<p>1303 rows × 15 columns</p>\n",
       "</div>"
      ],
      "text/plain": [
       "          Company            TypeName  Inches ScreenResolution   Cpu  Ram  \\\n",
       "Laptop ID                                                                   \n",
       "0           Apple           Ultrabook    13.3        2560x1600  2.3    8    \n",
       "1           Apple           Ultrabook    13.3         1440x900  1.8    8    \n",
       "2              HP            Notebook    15.6        1920x1080  2.5    8    \n",
       "3           Apple           Ultrabook    15.4        2880x1800  2.7   16    \n",
       "4           Apple           Ultrabook    13.3        2560x1600  3.1    8    \n",
       "...           ...                 ...     ...              ...   ...  ...   \n",
       "1298       Lenovo  2 in 1 Convertible    14.0        1920x1080  2.5    4    \n",
       "1299       Lenovo  2 in 1 Convertible    13.3        3200x1800  2.5   16    \n",
       "1300       Lenovo            Notebook    14.0         1366x768  1.6    2    \n",
       "1301           HP            Notebook    15.6         1366x768  2.5    6    \n",
       "1302         Asus            Notebook    15.6         1366x768  1.6    4    \n",
       "\n",
       "                        Memory                           Gpu       OpSys  \\\n",
       "Laptop ID                                                                  \n",
       "0                    128GB SSD  Intel Iris Plus Graphics 640       macOS   \n",
       "1          128GB Flash Storage        Intel HD Graphics 6000       macOS   \n",
       "2                    256GB SSD         Intel HD Graphics 620       No OS   \n",
       "3                    512GB SSD            AMD Radeon Pro 455       macOS   \n",
       "4                    256GB SSD  Intel Iris Plus Graphics 650       macOS   \n",
       "...                        ...                           ...         ...   \n",
       "1298                 128GB SSD         Intel HD Graphics 520  Windows 10   \n",
       "1299                 512GB SSD         Intel HD Graphics 520  Windows 10   \n",
       "1300        64GB Flash Storage             Intel HD Graphics  Windows 10   \n",
       "1301                   1TB HDD            AMD Radeon R5 M330  Windows 10   \n",
       "1302                 500GB HDD             Intel HD Graphics  Windows 10   \n",
       "\n",
       "           Weight   Price  Cpu_GHz  Ram_GB  Memory_GB  Weight(Kg)  \n",
       "Laptop ID                                                          \n",
       "0          1.37kg   71378      2.3       8        128        1.37  \n",
       "1          1.34kg   47895      1.8       8        128        1.34  \n",
       "2          1.86kg   30636      2.5       8        256        1.86  \n",
       "3          1.83kg  135195      2.7      16        512        1.83  \n",
       "4          1.37kg   96095      3.1       8        256        1.37  \n",
       "...           ...     ...      ...     ...        ...         ...  \n",
       "1298        1.8kg   33992      2.5       4        128        1.80  \n",
       "1299        1.3kg   79866      2.5      16        512        1.30  \n",
       "1300        1.5kg   12201      1.6       2         64        1.50  \n",
       "1301       2.19kg   40705      2.5       6       1000        2.19  \n",
       "1302        2.2kg   19660      1.6       4        500        2.20  \n",
       "\n",
       "[1303 rows x 15 columns]"
      ]
     },
     "execution_count": 31,
     "metadata": {},
     "output_type": "execute_result"
    }
   ],
   "source": [
    "laptopData"
   ]
  },
  {
   "cell_type": "code",
   "execution_count": 32,
   "metadata": {},
   "outputs": [
    {
     "name": "stdout",
     "output_type": "stream",
     "text": [
      "Company\n",
      "TypeName\n",
      "Inches\n",
      "ScreenResolution\n",
      "Cpu\n",
      "Ram\n",
      "Memory\n",
      "Gpu\n",
      "OpSys\n",
      "Weight\n",
      "Price\n",
      "Cpu_GHz\n",
      "Ram_GB\n",
      "Memory_GB\n",
      "Weight(Kg)\n"
     ]
    }
   ],
   "source": [
    "for header in laptopData.columns:\n",
    "    print(header)"
   ]
  },
  {
   "cell_type": "code",
   "execution_count": 33,
   "metadata": {},
   "outputs": [],
   "source": [
    "header_for_ml_model = [\n",
    "\"Company\",\n",
    "\"TypeName\",\n",
    "\"Cpu\",\n",
    "\"Ram_GB\",\n",
    "\"Memory_GB\",\n",
    "\"OpSys\",\n",
    "\"Weight(Kg)\",\n",
    "\"Price\"\n",
    "]"
   ]
  },
  {
   "cell_type": "code",
   "execution_count": 34,
   "metadata": {},
   "outputs": [
    {
     "data": {
      "text/html": [
       "<div>\n",
       "<style scoped>\n",
       "    .dataframe tbody tr th:only-of-type {\n",
       "        vertical-align: middle;\n",
       "    }\n",
       "\n",
       "    .dataframe tbody tr th {\n",
       "        vertical-align: top;\n",
       "    }\n",
       "\n",
       "    .dataframe thead th {\n",
       "        text-align: right;\n",
       "    }\n",
       "</style>\n",
       "<table border=\"1\" class=\"dataframe\">\n",
       "  <thead>\n",
       "    <tr style=\"text-align: right;\">\n",
       "      <th></th>\n",
       "      <th>Company</th>\n",
       "      <th>TypeName</th>\n",
       "      <th>Cpu</th>\n",
       "      <th>Ram_GB</th>\n",
       "      <th>Memory_GB</th>\n",
       "      <th>OpSys</th>\n",
       "      <th>Weight(Kg)</th>\n",
       "      <th>Price</th>\n",
       "    </tr>\n",
       "    <tr>\n",
       "      <th>Laptop ID</th>\n",
       "      <th></th>\n",
       "      <th></th>\n",
       "      <th></th>\n",
       "      <th></th>\n",
       "      <th></th>\n",
       "      <th></th>\n",
       "      <th></th>\n",
       "      <th></th>\n",
       "    </tr>\n",
       "  </thead>\n",
       "  <tbody>\n",
       "    <tr>\n",
       "      <th>0</th>\n",
       "      <td>Apple</td>\n",
       "      <td>Ultrabook</td>\n",
       "      <td>2.3</td>\n",
       "      <td>8</td>\n",
       "      <td>128</td>\n",
       "      <td>macOS</td>\n",
       "      <td>1.37</td>\n",
       "      <td>71378</td>\n",
       "    </tr>\n",
       "    <tr>\n",
       "      <th>1</th>\n",
       "      <td>Apple</td>\n",
       "      <td>Ultrabook</td>\n",
       "      <td>1.8</td>\n",
       "      <td>8</td>\n",
       "      <td>128</td>\n",
       "      <td>macOS</td>\n",
       "      <td>1.34</td>\n",
       "      <td>47895</td>\n",
       "    </tr>\n",
       "    <tr>\n",
       "      <th>2</th>\n",
       "      <td>HP</td>\n",
       "      <td>Notebook</td>\n",
       "      <td>2.5</td>\n",
       "      <td>8</td>\n",
       "      <td>256</td>\n",
       "      <td>No OS</td>\n",
       "      <td>1.86</td>\n",
       "      <td>30636</td>\n",
       "    </tr>\n",
       "    <tr>\n",
       "      <th>3</th>\n",
       "      <td>Apple</td>\n",
       "      <td>Ultrabook</td>\n",
       "      <td>2.7</td>\n",
       "      <td>16</td>\n",
       "      <td>512</td>\n",
       "      <td>macOS</td>\n",
       "      <td>1.83</td>\n",
       "      <td>135195</td>\n",
       "    </tr>\n",
       "    <tr>\n",
       "      <th>4</th>\n",
       "      <td>Apple</td>\n",
       "      <td>Ultrabook</td>\n",
       "      <td>3.1</td>\n",
       "      <td>8</td>\n",
       "      <td>256</td>\n",
       "      <td>macOS</td>\n",
       "      <td>1.37</td>\n",
       "      <td>96095</td>\n",
       "    </tr>\n",
       "    <tr>\n",
       "      <th>...</th>\n",
       "      <td>...</td>\n",
       "      <td>...</td>\n",
       "      <td>...</td>\n",
       "      <td>...</td>\n",
       "      <td>...</td>\n",
       "      <td>...</td>\n",
       "      <td>...</td>\n",
       "      <td>...</td>\n",
       "    </tr>\n",
       "    <tr>\n",
       "      <th>1298</th>\n",
       "      <td>Lenovo</td>\n",
       "      <td>2 in 1 Convertible</td>\n",
       "      <td>2.5</td>\n",
       "      <td>4</td>\n",
       "      <td>128</td>\n",
       "      <td>Windows 10</td>\n",
       "      <td>1.80</td>\n",
       "      <td>33992</td>\n",
       "    </tr>\n",
       "    <tr>\n",
       "      <th>1299</th>\n",
       "      <td>Lenovo</td>\n",
       "      <td>2 in 1 Convertible</td>\n",
       "      <td>2.5</td>\n",
       "      <td>16</td>\n",
       "      <td>512</td>\n",
       "      <td>Windows 10</td>\n",
       "      <td>1.30</td>\n",
       "      <td>79866</td>\n",
       "    </tr>\n",
       "    <tr>\n",
       "      <th>1300</th>\n",
       "      <td>Lenovo</td>\n",
       "      <td>Notebook</td>\n",
       "      <td>1.6</td>\n",
       "      <td>2</td>\n",
       "      <td>64</td>\n",
       "      <td>Windows 10</td>\n",
       "      <td>1.50</td>\n",
       "      <td>12201</td>\n",
       "    </tr>\n",
       "    <tr>\n",
       "      <th>1301</th>\n",
       "      <td>HP</td>\n",
       "      <td>Notebook</td>\n",
       "      <td>2.5</td>\n",
       "      <td>6</td>\n",
       "      <td>1000</td>\n",
       "      <td>Windows 10</td>\n",
       "      <td>2.19</td>\n",
       "      <td>40705</td>\n",
       "    </tr>\n",
       "    <tr>\n",
       "      <th>1302</th>\n",
       "      <td>Asus</td>\n",
       "      <td>Notebook</td>\n",
       "      <td>1.6</td>\n",
       "      <td>4</td>\n",
       "      <td>500</td>\n",
       "      <td>Windows 10</td>\n",
       "      <td>2.20</td>\n",
       "      <td>19660</td>\n",
       "    </tr>\n",
       "  </tbody>\n",
       "</table>\n",
       "<p>1303 rows × 8 columns</p>\n",
       "</div>"
      ],
      "text/plain": [
       "          Company            TypeName   Cpu  Ram_GB  Memory_GB       OpSys  \\\n",
       "Laptop ID                                                                    \n",
       "0           Apple           Ultrabook  2.3        8        128       macOS   \n",
       "1           Apple           Ultrabook  1.8        8        128       macOS   \n",
       "2              HP            Notebook  2.5        8        256       No OS   \n",
       "3           Apple           Ultrabook  2.7       16        512       macOS   \n",
       "4           Apple           Ultrabook  3.1        8        256       macOS   \n",
       "...           ...                 ...   ...     ...        ...         ...   \n",
       "1298       Lenovo  2 in 1 Convertible  2.5        4        128  Windows 10   \n",
       "1299       Lenovo  2 in 1 Convertible  2.5       16        512  Windows 10   \n",
       "1300       Lenovo            Notebook  1.6        2         64  Windows 10   \n",
       "1301           HP            Notebook  2.5        6       1000  Windows 10   \n",
       "1302         Asus            Notebook  1.6        4        500  Windows 10   \n",
       "\n",
       "           Weight(Kg)   Price  \n",
       "Laptop ID                      \n",
       "0                1.37   71378  \n",
       "1                1.34   47895  \n",
       "2                1.86   30636  \n",
       "3                1.83  135195  \n",
       "4                1.37   96095  \n",
       "...               ...     ...  \n",
       "1298             1.80   33992  \n",
       "1299             1.30   79866  \n",
       "1300             1.50   12201  \n",
       "1301             2.19   40705  \n",
       "1302             2.20   19660  \n",
       "\n",
       "[1303 rows x 8 columns]"
      ]
     },
     "execution_count": 34,
     "metadata": {},
     "output_type": "execute_result"
    }
   ],
   "source": [
    "laptopData = laptopData[header_for_ml_model]\n",
    "laptopData"
   ]
  },
  {
   "cell_type": "code",
   "execution_count": 35,
   "metadata": {},
   "outputs": [
    {
     "data": {
      "text/plain": [
       "'Now we will compare features aganist each other and will try to find corelation in between them'"
      ]
     },
     "execution_count": 35,
     "metadata": {},
     "output_type": "execute_result"
    }
   ],
   "source": [
    "# Bivariat analysis\n",
    "\"\"\"Now we will compare features aganist each other and will try to find corelation in between them\"\"\""
   ]
  },
  {
   "cell_type": "code",
   "execution_count": 36,
   "metadata": {},
   "outputs": [],
   "source": [
    "def correlation_heatmap(train):\n",
    "    # find correlation\n",
    "    correlations = train.corr()\n",
    "\n",
    "    # Plot corelation between them\n",
    "    fig,ax = plt.subplots(figsize =(16,16))\n",
    "    sns.heatmap(correlations,vmax= 1.0,center= 0,fmt= \".2f\", square= True, \n",
    "                linewidths= 0.5,annot=True,cbar_kws={\"shrink\":0.7}) \n",
    "    plt.show()"
   ]
  },
  {
   "cell_type": "code",
   "execution_count": 37,
   "metadata": {},
   "outputs": [
    {
     "name": "stdout",
     "output_type": "stream",
     "text": [
      "<class 'pandas.core.frame.DataFrame'>\n",
      "Int64Index: 1303 entries, 0 to 1302\n",
      "Data columns (total 8 columns):\n",
      " #   Column      Non-Null Count  Dtype  \n",
      "---  ------      --------------  -----  \n",
      " 0   Company     1303 non-null   object \n",
      " 1   TypeName    1303 non-null   object \n",
      " 2   Cpu         1303 non-null   object \n",
      " 3   Ram_GB      1303 non-null   int32  \n",
      " 4   Memory_GB   1303 non-null   int32  \n",
      " 5   OpSys       1303 non-null   object \n",
      " 6   Weight(Kg)  1303 non-null   float64\n",
      " 7   Price       1303 non-null   int32  \n",
      "dtypes: float64(1), int32(3), object(4)\n",
      "memory usage: 108.6+ KB\n"
     ]
    }
   ],
   "source": [
    "laptopData.info()"
   ]
  },
  {
   "cell_type": "code",
   "execution_count": 38,
   "metadata": {},
   "outputs": [
    {
     "name": "stderr",
     "output_type": "stream",
     "text": [
      "C:\\Users\\Ai\\AppData\\Local\\Temp\\ipykernel_13588\\427458131.py:3: FutureWarning: The default value of numeric_only in DataFrame.corr is deprecated. In a future version, it will default to False. Select only valid columns or specify the value of numeric_only to silence this warning.\n",
      "  correlations = train.corr()\n"
     ]
    },
    {
     "data": {
      "image/png": "[encoded data removed]",
      "text/plain": [
       "<Figure size 1600x1600 with 2 Axes>"
      ]
     },
     "metadata": {},
     "output_type": "display_data"
    }
   ],
   "source": [
    "correlation_heatmap(laptopData)"
   ]
  },
  {
   "cell_type": "code",
   "execution_count": 39,
   "metadata": {},
   "outputs": [
    {
     "name": "stderr",
     "output_type": "stream",
     "text": [
      "C:\\Users\\Ai\\AppData\\Local\\Temp\\ipykernel_13588\\1853344762.py:1: FutureWarning: The default value of numeric_only in DataFrame.corr is deprecated. In a future version, it will default to False. Select only valid columns or specify the value of numeric_only to silence this warning.\n",
      "  laptopData.corr()\n"
     ]
    },
    {
     "data": {
      "text/html": [
       "<div>\n",
       "<style scoped>\n",
       "    .dataframe tbody tr th:only-of-type {\n",
       "        vertical-align: middle;\n",
       "    }\n",
       "\n",
       "    .dataframe tbody tr th {\n",
       "        vertical-align: top;\n",
       "    }\n",
       "\n",
       "    .dataframe thead th {\n",
       "        text-align: right;\n",
       "    }\n",
       "</style>\n",
       "<table border=\"1\" class=\"dataframe\">\n",
       "  <thead>\n",
       "    <tr style=\"text-align: right;\">\n",
       "      <th></th>\n",
       "      <th>Ram_GB</th>\n",
       "      <th>Memory_GB</th>\n",
       "      <th>Weight(Kg)</th>\n",
       "      <th>Price</th>\n",
       "    </tr>\n",
       "  </thead>\n",
       "  <tbody>\n",
       "    <tr>\n",
       "      <th>Ram_GB</th>\n",
       "      <td>1.000000</td>\n",
       "      <td>0.018271</td>\n",
       "      <td>0.383874</td>\n",
       "      <td>0.743007</td>\n",
       "    </tr>\n",
       "    <tr>\n",
       "      <th>Memory_GB</th>\n",
       "      <td>0.018271</td>\n",
       "      <td>1.000000</td>\n",
       "      <td>0.179962</td>\n",
       "      <td>-0.122366</td>\n",
       "    </tr>\n",
       "    <tr>\n",
       "      <th>Weight(Kg)</th>\n",
       "      <td>0.383874</td>\n",
       "      <td>0.179962</td>\n",
       "      <td>1.000000</td>\n",
       "      <td>0.210370</td>\n",
       "    </tr>\n",
       "    <tr>\n",
       "      <th>Price</th>\n",
       "      <td>0.743007</td>\n",
       "      <td>-0.122366</td>\n",
       "      <td>0.210370</td>\n",
       "      <td>1.000000</td>\n",
       "    </tr>\n",
       "  </tbody>\n",
       "</table>\n",
       "</div>"
      ],
      "text/plain": [
       "              Ram_GB  Memory_GB  Weight(Kg)     Price\n",
       "Ram_GB      1.000000   0.018271    0.383874  0.743007\n",
       "Memory_GB   0.018271   1.000000    0.179962 -0.122366\n",
       "Weight(Kg)  0.383874   0.179962    1.000000  0.210370\n",
       "Price       0.743007  -0.122366    0.210370  1.000000"
      ]
     },
     "execution_count": 39,
     "metadata": {},
     "output_type": "execute_result"
    }
   ],
   "source": [
    "laptopData.corr()"
   ]
  },
  {
   "cell_type": "code",
   "execution_count": 41,
   "metadata": {},
   "outputs": [
    {
     "data": {
      "image/png": "[encoded data removed]",
      "text/plain": [
       "<Figure size 640x480 with 1 Axes>"
      ]
     },
     "metadata": {},
     "output_type": "display_data"
    }
   ],
   "source": [
    "# Bivarient analysis\n",
    "\n",
    "fig_size1 = (15,6)\n",
    "# fig2, ax1 = plt.subplot(figure=plt.figure())\n",
    "sns.scatterplot(data= laptopData,x = 'Price',y=\"Memory_GB\")\n",
    "plt.show()"
   ]
  },
  {
   "cell_type": "code",
   "execution_count": 42,
   "metadata": {},
   "outputs": [
    {
     "data": {
      "text/plain": [
       "<Axes: xlabel='Price', ylabel='Ram_GB'>"
      ]
     },
     "execution_count": 42,
     "metadata": {},
     "output_type": "execute_result"
    },
    {
     "data": {
      "image/png": "[encoded data removed]",
      "text/plain": [
       "<Figure size 640x480 with 1 Axes>"
      ]
     },
     "metadata": {},
     "output_type": "display_data"
    }
   ],
   "source": [
    "# Bivarient analysis\n",
    "\n",
    "fig_size = (20,6)\n",
    "# fig, ax = plt.subplots(figure= fig_size)\n",
    "sns.scatterplot(data= laptopData,x = 'Price',y=\"Ram_GB\",hue=\"Memory_GB\",)"
   ]
  },
  {
   "cell_type": "code",
   "execution_count": 45,
   "metadata": {},
   "outputs": [
    {
     "data": {
      "text/plain": [
       "<seaborn.axisgrid.FacetGrid at 0x1a664bdf2b0>"
      ]
     },
     "execution_count": 45,
     "metadata": {},
     "output_type": "execute_result"
    },
    {
     "data": {
      "image/png": "[encoded data removed]",
      "text/plain": [
       "<Figure size 1000x500 with 1 Axes>"
      ]
     },
     "metadata": {},
     "output_type": "display_data"
    }
   ],
   "source": [
    "\n",
    "sns.displot(data = laptopData, x = 'OpSys' ,height= 5, aspect= 2)\n"
   ]
  },
  {
   "cell_type": "code",
   "execution_count": 46,
   "metadata": {},
   "outputs": [],
   "source": [
    "# Split current data"
   ]
  },
  {
   "cell_type": "code",
   "execution_count": 48,
   "metadata": {},
   "outputs": [
    {
     "data": {
      "text/plain": [
       "Index(['Company', 'TypeName', 'Cpu', 'Ram_GB', 'Memory_GB', 'OpSys',\n",
       "       'Weight(Kg)', 'Price'],\n",
       "      dtype='object')"
      ]
     },
     "execution_count": 48,
     "metadata": {},
     "output_type": "execute_result"
    }
   ],
   "source": [
    "laptopData.columns"
   ]
  },
  {
   "cell_type": "code",
   "execution_count": 50,
   "metadata": {},
   "outputs": [],
   "source": [
    "X = laptopData.drop(['Price'], axis= 1)\n",
    "Y = laptopData['Price']\n",
    "X = X.select_dtypes(exclude=['object'])"
   ]
  },
  {
   "cell_type": "code",
   "execution_count": 53,
   "metadata": {},
   "outputs": [],
   "source": [
    "X_test, X_train,Y_test,Y_train = train_test_split(X,Y,test_size=0.1, random_state=42)"
   ]
  },
  {
   "cell_type": "code",
   "execution_count": 60,
   "metadata": {},
   "outputs": [
    {
     "data": {
      "text/plain": [
       "3.1587951383361347e+28"
      ]
     },
     "execution_count": 60,
     "metadata": {},
     "output_type": "execute_result"
    }
   ],
   "source": [
    "# Train model\n",
    "\"\"\"\n",
    "1. Define model\n",
    "2. fit model -> X_train,Y_train\n",
    "3. Predt - X train\n",
    "4. Mean square error\n",
    "5. Hyperparameter\n",
    "\"\"\"\n",
    "SGDreg = SGDRegressor()\n",
    "SGDreg.fit(X_train,Y_train)\n",
    "pred = SGDreg.predict(X_train)\n",
    "sgd_mse = mean_squared_error(Y_train, pred)\n",
    "sgd_rmse = np.sqrt(sgd_mse)\n",
    "sgd_mse"
   ]
  },
  {
   "cell_type": "code",
   "execution_count": 64,
   "metadata": {},
   "outputs": [
    {
     "name": "stdout",
     "output_type": "stream",
     "text": [
      "Best estimator: /nSGDRegressor(alpha=0.01, learning_rate='optimal', loss='epsilon_insensitive',\n",
      "             max_iter=5000, penalty='l1')\n",
      "\n",
      "Best index:\n",
      " 130\n",
      "\n",
      "Best param: \n",
      "{'alpha': 0.01, 'learning_rate': 'optimal', 'loss': 'epsilon_insensitive', 'max_iter': 5000, 'penalty': 'l1'}\n",
      "\n",
      "Best score:\n",
      " -0.9662648950892635\n"
     ]
    },
    {
     "name": "stderr",
     "output_type": "stream",
     "text": [
      "c:\\Users\\Ai\\anaconda3\\lib\\site-packages\\sklearn\\model_selection\\_validation.py:378: FitFailedWarning: \n",
      "810 fits failed out of a total of 2430.\n",
      "The score on these train-test partitions for these parameters will be set to nan.\n",
      "If these failures are not expected, you can try to debug them by setting error_score='raise'.\n",
      "\n",
      "Below are more details about the failures:\n",
      "--------------------------------------------------------------------------------\n",
      "810 fits failed with the following error:\n",
      "Traceback (most recent call last):\n",
      "  File \"c:\\Users\\Ai\\anaconda3\\lib\\site-packages\\sklearn\\model_selection\\_validation.py\", line 686, in _fit_and_score\n",
      "    estimator.fit(X_train, y_train, **fit_params)\n",
      "  File \"c:\\Users\\Ai\\anaconda3\\lib\\site-packages\\sklearn\\linear_model\\_stochastic_gradient.py\", line 1583, in fit\n",
      "    self._validate_params()\n",
      "  File \"c:\\Users\\Ai\\anaconda3\\lib\\site-packages\\sklearn\\base.py\", line 581, in _validate_params\n",
      "    validate_parameter_constraints(\n",
      "  File \"c:\\Users\\Ai\\anaconda3\\lib\\site-packages\\sklearn\\utils\\_param_validation.py\", line 97, in validate_parameter_constraints\n",
      "    raise InvalidParameterError(\n",
      "sklearn.utils._param_validation.InvalidParameterError: The 'loss' parameter of SGDRegressor must be a str among {'squared_error', 'epsilon_insensitive', 'huber', 'squared_epsilon_insensitive'}. Got 'squared_loss' instead.\n",
      "\n",
      "  warnings.warn(some_fits_failed_message, FitFailedWarning)\n",
      "c:\\Users\\Ai\\anaconda3\\lib\\site-packages\\sklearn\\model_selection\\_search.py:952: UserWarning: One or more of the test scores are non-finite: [            nan             nan             nan             nan\n",
      "             nan             nan             nan             nan\n",
      "             nan -1.74082980e+00 -1.71881502e+00 -1.73640310e+00\n",
      " -1.74474302e+00 -1.71124769e+00 -1.73726186e+00 -1.75017512e+00\n",
      " -1.70989725e+00 -1.75772780e+00 -1.92005632e+00 -1.75958749e+00\n",
      " -1.65262499e+00 -1.75080910e+00 -1.68263162e+00 -1.66349034e+00\n",
      " -1.79570472e+00 -1.69120262e+00 -1.75224223e+00             nan\n",
      "             nan             nan             nan             nan\n",
      "             nan             nan             nan             nan\n",
      " -1.73587428e+00 -1.70919062e+00 -1.73321379e+00 -1.74736641e+00\n",
      " -1.70857036e+00 -1.73984174e+00 -1.74082648e+00 -1.71809903e+00\n",
      " -1.74248182e+00 -1.69586523e+00 -1.55146900e+00 -1.66408970e+00\n",
      " -1.69852997e+00 -1.65084967e+00 -1.68320268e+00 -1.71399943e+00\n",
      " -1.57828903e+00 -1.66948635e+00             nan             nan\n",
      "             nan             nan             nan             nan\n",
      "             nan             nan             nan -1.74980559e+00\n",
      " -1.72272014e+00 -1.74375356e+00 -1.74812463e+00 -1.72648801e+00\n",
      " -1.74218118e+00 -1.74986856e+00 -1.72687400e+00 -1.74282162e+00\n",
      " -1.73902732e+00 -1.69787039e+00 -1.72246560e+00 -1.69214589e+00\n",
      " -1.71613407e+00 -1.72631088e+00 -1.70661306e+00 -1.73094233e+00\n",
      " -1.70634986e+00             nan             nan             nan\n",
      "             nan             nan             nan             nan\n",
      "             nan             nan -1.71204397e+00 -1.71631729e+00\n",
      " -1.71612392e+00 -1.72075679e+00 -1.71956224e+00 -1.71284319e+00\n",
      " -1.72317458e+00 -1.72315299e+00 -1.71265091e+00 -1.77337806e+00\n",
      " -1.72624205e+00 -1.66110877e+00 -1.71924337e+00 -1.71351833e+00\n",
      " -1.75625729e+00 -1.68231610e+00 -1.68268836e+00 -1.61426447e+00\n",
      "             nan             nan             nan             nan\n",
      "             nan             nan             nan             nan\n",
      "             nan -1.73873898e+00 -1.59800882e+00 -1.76004236e+00\n",
      " -1.66558261e+00 -1.59580068e+00 -1.74486233e+00 -1.66152009e+00\n",
      " -1.58583182e+00 -1.67957896e+00 -1.88027106e+00 -1.39639987e+00\n",
      " -1.72683093e+00 -2.06598754e+00 -9.66264895e-01 -1.53249338e+00\n",
      " -1.88856214e+00 -1.21114521e+00 -2.54424813e+00             nan\n",
      "             nan             nan             nan             nan\n",
      "             nan             nan             nan             nan\n",
      " -1.72314359e+00 -1.72226428e+00 -1.72727923e+00 -1.72554329e+00\n",
      " -1.72256854e+00 -1.72741673e+00 -1.72722841e+00 -1.72319285e+00\n",
      " -1.72407682e+00 -1.72093204e+00 -1.72851910e+00 -1.72410954e+00\n",
      " -1.71195921e+00 -1.72157174e+00 -1.71210152e+00 -1.70587340e+00\n",
      " -1.71187749e+00 -1.71395114e+00             nan             nan\n",
      "             nan             nan             nan             nan\n",
      "             nan             nan             nan -1.72514376e+00\n",
      " -1.72896386e+00 -1.71703544e+00 -1.71724028e+00 -1.71651715e+00\n",
      " -1.71132000e+00 -1.72213335e+00 -1.70572054e+00 -1.72351743e+00\n",
      " -1.75186610e+00 -1.80626442e+00 -1.76728247e+00 -1.73327135e+00\n",
      " -1.70658990e+00 -1.74595130e+00 -1.68026537e+00 -1.72159207e+00\n",
      " -1.75277431e+00             nan             nan             nan\n",
      "             nan             nan             nan             nan\n",
      "             nan             nan -1.65525245e+00 -1.66835971e+00\n",
      " -2.27633759e+00 -2.86993317e+00 -1.68492088e+00 -2.28351158e+00\n",
      " -1.64243860e+00 -2.08196012e+00 -2.11792243e+00 -6.72240743e+00\n",
      " -3.89592620e+00 -1.33037823e+01 -3.18649859e+00 -1.00180003e+01\n",
      " -4.88551580e+00 -2.11978556e+00 -1.26523773e+00 -4.56963555e+00\n",
      "             nan             nan             nan             nan\n",
      "             nan             nan             nan             nan\n",
      "             nan -1.72292223e+00 -1.72349043e+00 -1.72346853e+00\n",
      " -1.72310748e+00 -1.72360427e+00 -1.72220349e+00 -1.72423305e+00\n",
      " -1.72373444e+00 -1.72255973e+00 -1.69949873e+00 -1.71864615e+00\n",
      " -1.71375887e+00 -1.70928695e+00 -1.70266801e+00 -1.73844910e+00\n",
      " -1.70962177e+00 -1.71549398e+00 -1.72816868e+00             nan\n",
      "             nan             nan             nan             nan\n",
      "             nan             nan             nan             nan\n",
      " -1.72359003e+00 -1.71545478e+00 -1.71905329e+00 -1.71819647e+00\n",
      " -1.72019034e+00 -1.72150290e+00 -1.71940536e+00 -1.71747169e+00\n",
      " -1.71868432e+00 -1.83408548e+00 -1.68834311e+00 -1.86053509e+00\n",
      " -1.79583501e+00 -1.67317134e+00 -1.73419621e+00 -1.69961700e+00\n",
      " -1.82450229e+00 -1.65223922e+00             nan             nan\n",
      "             nan             nan             nan             nan\n",
      "             nan             nan             nan -3.90418555e+00\n",
      " -7.97903133e+00 -5.47472573e+00 -5.75690441e+00 -1.11398424e+00\n",
      " -4.63171386e+00 -4.02674855e+00 -2.81136394e+00 -1.13446128e+01\n",
      " -6.30780611e+01 -8.65613252e+01 -1.17821654e+02 -9.33709531e+01\n",
      " -1.91948831e+02 -7.72172371e+01 -5.58012929e+01 -6.88954309e+00\n",
      " -7.47687249e+01             nan             nan             nan\n",
      "             nan             nan             nan             nan\n",
      "             nan             nan -1.72468463e+00 -1.72378726e+00\n",
      " -1.72348307e+00 -1.72356066e+00 -1.72514878e+00 -1.72224531e+00\n",
      " -1.72454529e+00 -1.72392374e+00 -1.72327220e+00 -1.68968227e+00\n",
      " -1.71448638e+00 -1.72383586e+00 -1.70758183e+00 -1.70327063e+00\n",
      " -1.71173593e+00 -1.70341980e+00 -1.71279968e+00 -1.71796711e+00\n",
      "             nan             nan             nan             nan\n",
      "             nan             nan             nan             nan\n",
      "             nan -1.71935558e+00 -1.71676840e+00 -1.71865586e+00\n",
      " -1.72212332e+00 -1.72125295e+00 -1.72139848e+00 -1.71732167e+00\n",
      " -1.72107433e+00 -1.72098040e+00 -1.79186293e+00 -1.68272924e+00\n",
      " -1.77507352e+00 -1.68187870e+00 -1.68029170e+00 -1.68166721e+00\n",
      " -1.75636110e+00 -1.75994815e+00 -1.74445853e+00             nan\n",
      "             nan             nan             nan             nan\n",
      "             nan             nan             nan             nan\n",
      " -1.45480532e+02 -1.90622380e+01 -7.40075861e+01 -4.15368812e+01\n",
      " -1.20329890e+02 -8.94075712e+01 -4.22363965e+01 -3.34608017e+01\n",
      " -2.78476136e+01 -3.13683899e+03 -3.58349196e+04 -6.92960120e+03\n",
      " -1.21884505e+04 -9.78893444e+03 -7.61284947e+03 -1.17136882e+03\n",
      " -2.03037647e+04 -1.54357612e+03             nan             nan\n",
      "             nan             nan             nan             nan\n",
      "             nan             nan             nan -1.72466573e+00\n",
      " -1.72421374e+00 -1.72415009e+00 -1.72316200e+00 -1.72528281e+00\n",
      " -1.72365887e+00 -1.72294320e+00 -1.72516244e+00 -1.72317042e+00\n",
      " -1.72190069e+00 -1.69511301e+00 -1.72392469e+00 -1.71946679e+00\n",
      " -1.72475972e+00 -1.71918278e+00 -1.71990026e+00 -1.68617609e+00\n",
      " -1.70235477e+00             nan             nan             nan\n",
      "             nan             nan             nan             nan\n",
      "             nan             nan -1.71883290e+00 -1.71297980e+00\n",
      " -1.71946740e+00 -1.71504304e+00 -1.71902540e+00 -1.71137427e+00\n",
      " -1.72031831e+00 -1.71017349e+00 -1.72349089e+00 -1.69750113e+00\n",
      " -1.84321993e+00 -1.77593267e+00 -1.64383076e+00 -1.70998631e+00\n",
      " -1.88883395e+00 -1.67208809e+00 -1.68029020e+00 -1.66431234e+00\n",
      "             nan             nan             nan             nan\n",
      "             nan             nan             nan             nan\n",
      "             nan -1.02959235e+03 -2.53182404e+02 -1.71029282e+03\n",
      " -6.87382549e+02 -1.01234797e+03 -6.63764787e+02 -2.52658786e+02\n",
      " -7.13970581e+02 -2.73182917e+02 -1.98160733e+05 -3.66280336e+04\n",
      " -3.18025117e+04 -1.99794511e+04 -7.34398356e+04 -3.53970443e+04\n",
      " -2.58063030e+04 -2.68127552e+04 -3.52970745e+04             nan\n",
      "             nan             nan             nan             nan\n",
      "             nan             nan             nan             nan\n",
      " -1.72162238e+00 -1.72304831e+00 -1.72600808e+00 -1.72419511e+00\n",
      " -1.72327262e+00 -1.72269915e+00 -1.72270719e+00 -1.72366172e+00\n",
      " -1.72243160e+00 -1.72231058e+00 -1.68378414e+00 -1.71378847e+00\n",
      " -1.70928867e+00 -1.71187862e+00 -1.70349551e+00 -1.71835570e+00\n",
      " -1.69495342e+00 -1.72577284e+00]\n",
      "  warnings.warn(\n"
     ]
    }
   ],
   "source": [
    "param_grid = {\n",
    "    \"alpha\": 10.0**-np.arange(1,7),\n",
    "    \"loss\": [\"squared_loss\", 'huber','epsilon_insensitive'],\n",
    "    'penalty': [\"l2\",'l1','elasticnet'],\n",
    "    \"learning_rate\":['constant','optimal','invscaling'],\n",
    "    'max_iter': [1000,5000,10000]\n",
    "\n",
    "}\n",
    "\n",
    "grid_search = GridSearchCV(SGDreg,param_grid=param_grid)\n",
    "grid_search.fit(X_train,Y_train)\n",
    "print(\"Best estimator: \\n\"+str(grid_search.best_estimator_))\n",
    "print(\"\\nBest index:\\n \"+str(grid_search.best_index_))\n",
    "print(\"\\nBest param: \\n\"+str(grid_search.best_params_))\n",
    "print(\"\\nBest score:\\n \"+str(grid_search.best_score_))\n"
   ]
  },
  {
   "cell_type": "code",
   "execution_count": 68,
   "metadata": {},
   "outputs": [
    {
     "name": "stdout",
     "output_type": "stream",
     "text": [
      "mse 656536820.2186259\n",
      "Rmse 25622.974460796428\n"
     ]
    }
   ],
   "source": [
    "# KNN regressor\n",
    "\n",
    "Kreg = KNeighborsRegressor()\n",
    "Kreg.fit(X_train,Y_train)\n",
    "pred = Kreg.predict(X_train)\n",
    "mse = mean_squared_error(Y_train,pred)\n",
    "k_rmse = np.sqrt(mse)\n",
    "\n",
    "print(\"mse\", mse)\n",
    "print(\"Rmse\", k_rmse)\n"
   ]
  },
  {
   "cell_type": "code",
   "execution_count": 75,
   "metadata": {},
   "outputs": [],
   "source": [
    "param_grid = {\n",
    "\"n_neighbours\":np.arange(1,12,2),\n",
    "'weights': ['uniform','distance']\n",
    "}\n",
    "\n",
    "# grid_search = GridSearchCV(Kreg, param_grid)\n",
    "# grid_search.fit(X_train,Y_train)\n",
    "\n",
    "# print(\"Best score: \", str(grid_search.best_score_))"
   ]
  },
  {
   "cell_type": "code",
   "execution_count": 72,
   "metadata": {},
   "outputs": [
    {
     "data": {
      "text/plain": [
       "array([ 1,  3,  5,  7,  9, 11])"
      ]
     },
     "execution_count": 72,
     "metadata": {},
     "output_type": "execute_result"
    }
   ],
   "source": [
    "np.arange(1,12,2)\n"
   ]
  }
 ],
 "metadata": {
  "kernelspec": {
   "display_name": "base",
   "language": "python",
   "name": "python3"
  },
  "language_info": {
   "codemirror_mode": {
    "name": "ipython",
    "version": 3
   },
   "file_extension": ".py",
   "mimetype": "text/x-python",
   "name": "python",
   "nbconvert_exporter": "python",
   "pygments_lexer": "ipython3",
   "version": "3.10.9"
  }
 },
 "nbformat": 4,
 "nbformat_minor": 2
}
